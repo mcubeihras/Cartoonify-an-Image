{
 "cells": [
  {
   "cell_type": "markdown",
   "id": "78083d3c",
   "metadata": {},
   "source": [
    "# Cartoonify an Image with OpenCV in Python"
   ]
  },
  {
   "cell_type": "markdown",
   "id": "f7915742",
   "metadata": {},
   "source": [
    "Do you miss your childhood? Yes, everyone does.! So today let’s head towards giving our pictures some cartoonic effects. This article is all about building a photo cartoonifyer using Python and OpenCV"
   ]
  },
  {
   "cell_type": "markdown",
   "id": "60c06c51",
   "metadata": {},
   "source": [
    "What is OpenCV?\n",
    "Python is the pool of libraries. It has numerous libraries for real-world applications. One such library is OpenCV. OpenCV is a cross-platform library used for Computer Vision. It includes applications like video and image capturing and processing. It is majorly used in image transformation, object detection, face recognition, and many other stunning applications.\n",
    "\n",
    "What are we going to build?\n",
    "At the end of this article, we aim to transform images into its cartoon. Yes, we will CARTOONIFY the images. Thus, we will build a python application that will transform an image into its cartoon using OpenCV."
   ]
  },
  {
   "cell_type": "markdown",
   "id": "44262cd9",
   "metadata": {},
   "source": [
    "Step 1: Importing the required modules\n",
    "\n",
    "We will import the following modules:\n",
    "\n",
    "CV2: Imported to use OpenCV for image processing\n",
    "easygui: Imported to open a file box. It allows us to select any file from our system.\n",
    "Numpy: Images are stored and processed as numbers. These are taken as arrays. We use NumPy to deal with arrays.\n",
    "Imageio: Used to read the file which is chosen by file box using a path.\n",
    "Matplotlib: This library is used for visualization and plotting. Thus, it is imported to form the plot of images.\n",
    "OS: For OS interaction. Here, to read the path and save images to that path.\n",
    "Code:\n",
    "\n",
    "import cv2 #for image processing\n",
    "import easygui #to open the filebox\n",
    "import numpy as np #to store image\n",
    "import imageio #to read image stored at particular path\n",
    "import sys\n",
    "import matplotlib.pyplot as plt\n",
    "import os\n",
    "import tkinter as tk\n",
    "from tkinter import filedialog\n",
    "from tkinter import *\n",
    "from PIL import ImageTk, Image"
   ]
  },
  {
   "cell_type": "markdown",
   "id": "48f40fd2",
   "metadata": {},
   "source": [
    "Step 2: Building a File Box to choose a particular file\n",
    "\n",
    "In this step, we will build the main window of our application, where the buttons, labels, and images will reside. We also give it a title by title() function.\n",
    "\n",
    "Code:\n",
    "\n",
    "\"\"\" fileopenbox opens the box to choose file\n",
    "and help us store file path as string \"\"\"\n",
    "def upload():\n",
    "    ImagePath=easygui.fileopenbox()\n",
    "    cartoonify(ImagePath)\n",
    "\n",
    "Explanation:\n",
    "\n",
    "The above code opens the file box, i.e the pop-up box to choose the file from the device, which opens every time you run the code. fileopenbox() is the method in easyGUI module which returns the path of the chosen file as a string.\n",
    "\n",
    "NOTE: Now, all the operation will be done on the button click, thus all the below steps are the part of function cartoonify (ImagePath)\n",
    "\n",
    "def cartoonify(ImagePath):"
   ]
  },
  {
   "cell_type": "markdown",
   "id": "2ab4c435",
   "metadata": {},
   "source": [
    "Step 3: How is an image stored?\n",
    "Now, just think, how will a program read an image? For a computer, everything is just numbers. Thus, in the below code, we will convert our image into a numpy array.\n",
    "\n",
    "Code:\n",
    "\n",
    "#read the image\n",
    "    originalmage = cv2.imread(ImagePath)\n",
    "    originalmage = cv2.cvtColor(originalmage, cv2.COLOR_BGR2RGB)\n",
    "#print(image)  # image is stored in form of numbers\n",
    "\n",
    "#confirm that image is chosen\n",
    "    if originalmage is None:\n",
    "        print(\"Can not find any image. Choose appropriate file\")\n",
    "        sys.exit()\n",
    "    ReSized1 = cv2.resize(originalmage, (960, 540))\n",
    "#plt.imshow(ReSized1, cmap='gray')\n",
    "Explanation:\n",
    "\n",
    "\n",
    "Imread is a method in cv2 which is used to store images in the form of numbers. This helps us to perform operations according to our needs. The image is read as a numpy array, in which cell values depict R, G, and B values of a pixel.\n",
    "\n",
    "NOTE: We resize the image after each transformation to display all the images on a similar scale at last.\n",
    "\n",
    "Beginning with image transformations:\n",
    "\n",
    "To convert an image to a cartoon, multiple transformations are done. Firstly, an image is converted to a Grayscale image. Yes, similar to the old day’s pictures.! Then, the Grayscale image is smoothened, and we try to extract the edges in the image. Finally, we form a color image and mask it with edges. This creates a beautiful cartoon image with edges and lightened color of the original image.\n",
    "\n",
    "Let’s start with these transformations to convert an image to its cartoon image."
   ]
  },
  {
   "cell_type": "code",
   "execution_count": null,
   "id": "b246e14a",
   "metadata": {},
   "outputs": [],
   "source": [
    "Step 4: Transforming an image to grayscale\n",
    "Code:\n",
    "\n",
    "#converting an image to grayscale\n",
    "grayScaleImage = cv2.cvtColor(originalmage, cv2.COLOR_BGR2GRAY)\n",
    "ReSized2 = cv2.resize(grayScaleImage, (960, 540))\n",
    "#plt.imshow(ReSized2, cmap='gray')\n",
    "Explanation:\n",
    "\n",
    "cvtColor(image, flag) is a method in cv2 which is used to transform an image into the colour-space mentioned as ‘flag’. Here, our first step is to convert the image into grayscale. Thus, we use the BGR2GRAY flag. This returns the image in grayscale. A grayscale image is stored as grayScaleImage.\n",
    "\n",
    "After each transformation, we resize the resultant image using the resize() method in cv2 and display it using imshow() method. This is done to get more clear insights into every single transformation step.\n",
    "\n",
    "The above code will generate the following output:\n",
    "\n",
    "gray image"
   ]
  },
  {
   "cell_type": "code",
   "execution_count": null,
   "id": "aa3049a0",
   "metadata": {},
   "outputs": [],
   "source": [
    "Step 5: Smoothening a grayscale image\n",
    "Code:\n",
    "\n",
    "#applying median blur to smoothen an image\n",
    "smoothGrayScale = cv2.medianBlur(grayScaleImage, 5)\n",
    "ReSized3 = cv2.resize(smoothGrayScale, (960, 540))\n",
    "#plt.imshow(ReSized3, cmap='gray')\n",
    "Explanation:\n",
    "\n",
    "To smoothen an image, we simply apply a blur effect. This is done using medianBlur() function. Here, the center pixel is assigned a mean value of all the pixels which fall under the kernel. In turn, creating a blur effect.\n",
    "\n",
    "The above code generates the following output:\n",
    "\n",
    "smooth gray"
   ]
  },
  {
   "cell_type": "code",
   "execution_count": null,
   "id": "ae7d6ac0",
   "metadata": {},
   "outputs": [],
   "source": [
    "Step 6: Retrieving the edges of an image\n",
    "Code:\n",
    "\n",
    "#retrieving the edges for cartoon effect\n",
    "#by using thresholding technique\n",
    "getEdge = cv2.adaptiveThreshold(smoothGrayScale, 255, \n",
    "  cv2.ADAPTIVE_THRESH_MEAN_C, \n",
    "  cv2.THRESH_BINARY, 9, 9)\n",
    "ReSized4 = cv2.resize(getEdge, (960, 540))\n",
    "#plt.imshow(ReSized4, cmap='gray')\n",
    "Explanation:\n",
    "\n",
    "Cartoon effect has two specialties:\n",
    "\n",
    "\n",
    "Highlighted Edges\n",
    "Smooth colors\n",
    "In this step, we will work on the first specialty. Here, we will try to retrieve the edges and highlight them. This is attained by the adaptive thresholding technique. The threshold value is the mean of the neighborhood pixel values area minus the constant C. C is a constant that is subtracted from the mean or weighted sum of the neighborhood pixels. Thresh_binary is the type of threshold applied, and the remaining parameters determine the block size.\n",
    "\n",
    "The above code will generate output like below:\n",
    "\n",
    "edge image"
   ]
  },
  {
   "cell_type": "code",
   "execution_count": null,
   "id": "376b0643",
   "metadata": {},
   "outputs": [],
   "source": [
    "Step 7: Preparing a Mask Image\n",
    "\n",
    "Code:\n",
    "\n",
    "#applying bilateral filter to remove noise \n",
    "#and keep edge sharp as required\n",
    "colorImage = cv2.bilateralFilter(originalmage, 9, 300, 300)\n",
    "ReSized5 = cv2.resize(colorImage, (960, 540))\n",
    "#plt.imshow(ReSized5, cmap='gray')\n",
    "Explanation:\n",
    "\n",
    "In the above code, we finally work on the second specialty. We prepare a lightened color image that we mask with edges at the end to produce a cartoon image. We use bilateralFilter which removes the noise. It can be taken as smoothening of an image to an extent.\n",
    "\n",
    "The third parameter is the diameter of the pixel neighborhood, i.e, the number of pixels around a certain pixel which will determine its value. The fourth and Fifth parameter defines signmaColor and sigmaSpace. These parameters are used to give a sigma effect, i.e make an image look vicious and like water paint, removing the roughness in colors.\n",
    "\n",
    "Yes, it’s similar to BEAUTIFY or AI effect in cameras of modern mobile phones.\n",
    "\n",
    "The above code generates the following output:\n",
    "\n",
    "color mask"
   ]
  },
  {
   "cell_type": "markdown",
   "id": "83708945",
   "metadata": {},
   "source": [
    "Step 8: Giving a Cartoon Effect\n",
    "\n",
    "Code:\n",
    "\n",
    "#masking edged image with our \"BEAUTIFY\" image\n",
    "cartoonImage = cv2.bitwise_and(colorImage, colorImage, mask=getEdge)\n",
    "ReSized6 = cv2.resize(cartoonImage, (960, 540))\n",
    "#plt.imshow(ReSized6, cmap='gray')\n",
    "Explanation:\n",
    "\n",
    "So, let’s combine the two specialties. This will be done using MASKING. We perform bitwise and on two images to mask them. Remember, images are just numbers?\n",
    "\n",
    "Yes, so that’s how we mask edged image on our “BEAUTIFY” image.\n",
    "\n",
    "This finally CARTOONIFY our image!\n",
    "\n",
    "The above code will generate output like below:\n",
    "\n",
    "cartoon effect\n",
    "\n"
   ]
  },
  {
   "cell_type": "code",
   "execution_count": null,
   "id": "cec5c1b4",
   "metadata": {},
   "outputs": [],
   "source": [
    "Step 9: Plotting all the transitions together\n",
    "\n",
    "Code:\n",
    "\n",
    "#Plotting the whole transition\n",
    "images=[ReSized1, ReSized2, ReSized3, ReSized4, ReSized5, ReSized6]\n",
    "fig, axes = plt.subplots(3,2, figsize=(8,8), subplot_kw={'xticks':[], 'yticks':[]}, gridspec_kw=dict(hspace=0.1, wspace=0.1))\n",
    "for i, ax in enumerate(axes.flat):\n",
    "    ax.imshow(images[i], cmap='gray')\n",
    "//save button code\n",
    "plt.show()\n",
    "Explanation:\n",
    "\n",
    "To plot all the images, we first make a list of all the images. The list here is named “images” and contains all the resized images. Now, we create axes like subl=plots in a plot and display one-one images in each block on the axis using imshow() method.\n",
    "\n",
    "plt.show() plots the whole plot at once after we plot on each subplot.\n",
    "\n",
    "The above code will generate output like below:\n",
    "\n",
    "cartoonifier output"
   ]
  },
  {
   "cell_type": "code",
   "execution_count": null,
   "id": "89c779bc",
   "metadata": {},
   "outputs": [],
   "source": [
    "Step 10: Functionally of save button\n",
    "def save(ReSized6, ImagePath):\n",
    "    #saving an image using imwrite()\n",
    "    newName=\"cartoonified_Image\"\n",
    "    path1 = os.path.dirname(ImagePath)\n",
    "    extension=os.path.splitext(ImagePath)[1]\n",
    "    path = os.path.join(path1, newName+extension)\n",
    "    cv2.imwrite(path, cv2.cvtColor(ReSized6, cv2.COLOR_RGB2BGR))\n",
    "    I = \"Image saved by name \" + newName +\" at \"+ path\n",
    "    tk.messagebox.showinfo(title=None, message=I)\n",
    "Explanation:\n",
    "\n",
    "Here, the idea is to save the resultant image. For this, we take the old path, and just change the tail (name of the old file) to a new name and store the cartoonified image with a new name in the same folder by appending the new name to the head part of the file.\n",
    "\n",
    "\n",
    "For this, we extract the head part of the file path by os.path.dirname() method. Similarly, os.path.splitext(ImagePath)[1] is used to extract the extension of the file from the path.\n",
    "\n",
    "Here, newName stores “Cartoonified_Image” as the name of a new file. os.path.join(path1, newName + extension) joins the head of path to the newname and extension. This forms the complete path for the new file.\n",
    "\n",
    "imwrite() method of cv2 is used to save the file at the path mentioned. cv2.cvtColor(ReSized6, cv2.COLOR_RGB2BGR) is used to assure that no color get extracted or highlighted while we save our image. Thus, at last, the user is given confirmation that the image is saved with the name and path of the file.\n",
    "\n",
    "Once executed with button, this function will result in below output:\n",
    "\n",
    "cartoonifier save image\n"
   ]
  },
  {
   "cell_type": "code",
   "execution_count": null,
   "id": "571c9310",
   "metadata": {},
   "outputs": [],
   "source": [
    "Step 11: Making the main window\n",
    "\n",
    "top=tk.Tk()\n",
    "top.geometry('400x400')\n",
    "top.title('Cartoonify Your Image !')\n",
    "top.configure(background='white')\n",
    "label=Label(top,background='#CDCDCD', font=('calibri',20,'bold'))\n"
   ]
  },
  {
   "cell_type": "code",
   "execution_count": null,
   "id": "7619ad67",
   "metadata": {},
   "outputs": [],
   "source": [
    "Step 12: Making the Cartoonify button in the main window\n",
    "upload=Button(top,text=\"Cartoonify an Image\",command=upload,padx=10,pady=5)\n",
    "upload.configure(background='#364156', foreground='white',font=('calibri',10,'bold'))\n",
    "upload.pack(side=TOP,pady=50)\n",
    "box"
   ]
  },
  {
   "cell_type": "code",
   "execution_count": null,
   "id": "00042530",
   "metadata": {},
   "outputs": [],
   "source": [
    "Step 13: Making a Save button in the main window\n",
    "\n",
    "save1=Button(top,text=\"Save cartoon image\",command=lambda: save(ImagePath, ReSized6),padx=30,pady=5)\n",
    "save1.configure(background='#364156', foreground='white',font=('calibri',10,'bold'))\n",
    "save1.pack(side=TOP,pady=50)\n",
    "The above code makes a button as soon as the image transformation is done. It gives an option to the user to save cartoonified image.\n",
    "\n",
    "save"
   ]
  },
  {
   "cell_type": "code",
   "execution_count": null,
   "id": "69df2358",
   "metadata": {},
   "outputs": [],
   "source": [
    "Step 14: Main function to build the tkinter window\n",
    "top.mainloop()\n",
    "The Final Result:\n",
    "\n",
    "image Save\n"
   ]
  },
  {
   "cell_type": "code",
   "execution_count": null,
   "id": "07cc39d9",
   "metadata": {},
   "outputs": [],
   "source": [
    "Summary\n",
    "Yes, now you have a reason to tease your sibling by saying “You look like a cartoon”. Just cartoonify his/ her image, and show it!\n",
    "\n",
    "We have successfully developed Image Cartoonifier with OpenCV in Python. This is the magic of openCV which let us do miracles. We suggest you make a photo editor of your own and try different effects."
   ]
  }
 ],
 "metadata": {
  "kernelspec": {
   "display_name": "Python 3",
   "language": "python",
   "name": "python3"
  },
  "language_info": {
   "codemirror_mode": {
    "name": "ipython",
    "version": 3
   },
   "file_extension": ".py",
   "mimetype": "text/x-python",
   "name": "python",
   "nbconvert_exporter": "python",
   "pygments_lexer": "ipython3",
   "version": "3.8.8"
  }
 },
 "nbformat": 4,
 "nbformat_minor": 5
}
